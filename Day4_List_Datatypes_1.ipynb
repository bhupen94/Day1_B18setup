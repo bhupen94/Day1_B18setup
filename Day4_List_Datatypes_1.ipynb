{
 "cells": [
  {
   "cell_type": "code",
   "execution_count": null,
   "metadata": {},
   "outputs": [],
   "source": [
    "List : A list 1s a collection ofitems in an order. list is classified as mutable datatype."
   ]
  },
  {
   "cell_type": "code",
   "execution_count": null,
   "metadata": {},
   "outputs": [],
   "source": [
    "syntax : List ----> [] ----> square Bracket."
   ]
  },
  {
   "cell_type": "code",
   "execution_count": 1,
   "metadata": {},
   "outputs": [
    {
     "name": "stdout",
     "output_type": "stream",
     "text": [
      "['Kunal', 'naresh', 'suresh', 'priyanka', 'satya', 'pooja', 'kiran', 'snehal']\n"
     ]
    }
   ],
   "source": [
    "students = ['Kunal','naresh','suresh','priyanka','satya','pooja','kiran','snehal']\n",
    "print(students)"
   ]
  },
  {
   "cell_type": "code",
   "execution_count": 2,
   "metadata": {},
   "outputs": [
    {
     "data": {
      "text/plain": [
       "list"
      ]
     },
     "execution_count": 2,
     "metadata": {},
     "output_type": "execute_result"
    }
   ],
   "source": [
    "type(students)"
   ]
  },
  {
   "cell_type": "code",
   "execution_count": null,
   "metadata": {},
   "outputs": [],
   "source": [
    "Concept of Indexing "
   ]
  },
  {
   "cell_type": "code",
   "execution_count": 3,
   "metadata": {},
   "outputs": [
    {
     "name": "stdout",
     "output_type": "stream",
     "text": [
      "suresh\n",
      "pooja\n"
     ]
    }
   ],
   "source": [
    "students = ['Kunal','naresh','suresh','priyanka','satya','pooja','kiran','snehal']\n",
    "print(students[2])\n",
    "print(students[5])"
   ]
  },
  {
   "cell_type": "code",
   "execution_count": null,
   "metadata": {},
   "outputs": [],
   "source": [
    "Reassigning, Adding, and Deleating the  Elements from List :"
   ]
  },
  {
   "cell_type": "code",
   "execution_count": 4,
   "metadata": {},
   "outputs": [
    {
     "name": "stdout",
     "output_type": "stream",
     "text": [
      "['Kunal', 'naresh', 'suresh', 'priyanka', 'satya', 'pooja', 'kiran', 'snehal']\n",
      "['Kunal', 'naresh', 'ramesh', 'priyanka', 'satya', 'pooja', 'kiran', 'snehal']\n"
     ]
    }
   ],
   "source": [
    "students = ['Kunal','naresh','suresh','priyanka','satya','pooja','kiran','snehal']\n",
    "print(students)\n",
    "students[2] = 'ramesh'\n",
    "print(students)"
   ]
  },
  {
   "cell_type": "code",
   "execution_count": null,
   "metadata": {},
   "outputs": [],
   "source": [
    "adding elements to the list "
   ]
  },
  {
   "cell_type": "code",
   "execution_count": 5,
   "metadata": {},
   "outputs": [
    {
     "name": "stdout",
     "output_type": "stream",
     "text": [
      "['Kunal', 'naresh', 'suresh', 'priyanka', 'satya', 'pooja', 'kiran', 'snehal', 'lavina']\n"
     ]
    }
   ],
   "source": [
    "students = ['Kunal','naresh','suresh','priyanka','satya','pooja','kiran','snehal']\n",
    "students.append('lavina')\n",
    "print(students)"
   ]
  },
  {
   "cell_type": "code",
   "execution_count": null,
   "metadata": {},
   "outputs": [],
   "source": [
    "# Req : Add neha at the 3 index position .  \n",
    "# Inser method"
   ]
  },
  {
   "cell_type": "code",
   "execution_count": 6,
   "metadata": {},
   "outputs": [
    {
     "name": "stdout",
     "output_type": "stream",
     "text": [
      "['Kunal', 'naresh', 'suresh', 'neha', 'priyanka', 'satya', 'pooja', 'kiran', 'snehal']\n"
     ]
    }
   ],
   "source": [
    "students = ['Kunal','naresh','suresh','priyanka','satya','pooja','kiran','snehal']\n",
    "students.insert(3,'neha')\n",
    "print(students)"
   ]
  },
  {
   "cell_type": "code",
   "execution_count": 7,
   "metadata": {},
   "outputs": [
    {
     "name": "stdout",
     "output_type": "stream",
     "text": [
      "['Kunal', 'naresh', 'suresh', 'priyanka', 'Rohan', 'satya', 'pooja', 'kiran', 'snehal']\n"
     ]
    }
   ],
   "source": [
    "students = ['Kunal','naresh','suresh','priyanka','satya','pooja','kiran','snehal']\n",
    "students.insert(4,'Rohan')\n",
    "print(students)"
   ]
  },
  {
   "cell_type": "code",
   "execution_count": null,
   "metadata": {},
   "outputs": [],
   "source": [
    "Deleting elements from the List"
   ]
  },
  {
   "cell_type": "code",
   "execution_count": 8,
   "metadata": {},
   "outputs": [
    {
     "name": "stdout",
     "output_type": "stream",
     "text": [
      "['Kunal', 'naresh', 'suresh', 'priyanka', 'satya', 'pooja', 'kiran', 'snehal']\n",
      "['Kunal', 'naresh', 'priyanka', 'satya', 'pooja', 'kiran', 'snehal']\n"
     ]
    }
   ],
   "source": [
    "students = ['Kunal','naresh','suresh','priyanka','satya','pooja','kiran','snehal']\n",
    "print(students)\n",
    "del students[2]\n",
    "print(students)"
   ]
  },
  {
   "cell_type": "code",
   "execution_count": null,
   "metadata": {},
   "outputs": [],
   "source": [
    "#  Understanding the .POP Method"
   ]
  },
  {
   "cell_type": "code",
   "execution_count": 9,
   "metadata": {},
   "outputs": [
    {
     "name": "stdout",
     "output_type": "stream",
     "text": [
      "['Kunal', 'naresh', 'suresh', 'priyanka', 'satya', 'pooja', 'kiran', 'snehal']\n",
      "['Kunal', 'naresh', 'suresh', 'priyanka', 'satya', 'pooja', 'kiran']\n",
      "snehal\n"
     ]
    }
   ],
   "source": [
    "students = ['Kunal','naresh','suresh','priyanka','satya','pooja','kiran','snehal']\n",
    "print(students)\n",
    "x = students.pop()\n",
    "print(students)\n",
    "print(x)"
   ]
  },
  {
   "cell_type": "code",
   "execution_count": null,
   "metadata": {},
   "outputs": [],
   "source": [
    "# Delete Priyanka"
   ]
  },
  {
   "cell_type": "code",
   "execution_count": 10,
   "metadata": {},
   "outputs": [
    {
     "name": "stdout",
     "output_type": "stream",
     "text": [
      "['Kunal', 'naresh', 'suresh', 'priyanka', 'satya', 'pooja', 'kiran', 'snehal']\n",
      "['Kunal', 'naresh', 'suresh', 'satya', 'pooja', 'kiran', 'snehal']\n",
      "priyanka\n"
     ]
    }
   ],
   "source": [
    "students = ['Kunal','naresh','suresh','priyanka','satya','pooja','kiran','snehal']\n",
    "print(students)\n",
    "y = students.pop(3)\n",
    "print(students)\n",
    "print(y)"
   ]
  },
  {
   "cell_type": "code",
   "execution_count": null,
   "metadata": {},
   "outputs": [],
   "source": []
  }
 ],
 "metadata": {
  "kernelspec": {
   "display_name": "Python 3",
   "language": "python",
   "name": "python3"
  },
  "language_info": {
   "codemirror_mode": {
    "name": "ipython",
    "version": 3
   },
   "file_extension": ".py",
   "mimetype": "text/x-python",
   "name": "python",
   "nbconvert_exporter": "python",
   "pygments_lexer": "ipython3",
   "version": "3.7.4"
  }
 },
 "nbformat": 4,
 "nbformat_minor": 2
}
